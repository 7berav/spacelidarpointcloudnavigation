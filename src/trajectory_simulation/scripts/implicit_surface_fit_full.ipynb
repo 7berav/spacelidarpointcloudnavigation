{
 "cells": [
  {
   "cell_type": "markdown",
   "id": "e7683bd1",
   "metadata": {},
   "source": [
    "## 1. Load NPY and Preprocessing"
   ]
  },
  {
   "cell_type": "code",
   "execution_count": 1,
   "id": "c0ce0d52",
   "metadata": {},
   "outputs": [],
   "source": [
    "import numpy as np\n",
    "\n",
    "# Load point cloud\n",
    "data = np.load('/home/smrl/cylinder_high.npy')\n",
    "shiftReal = np.array([0.5, -1, -0.3])\n",
    "PPm_body = data + shiftReal\n"
   ]
  },
  {
   "cell_type": "markdown",
   "id": "ed9bf6cd",
   "metadata": {},
   "source": [
    "## 2. Apply Quaternion Rotation"
   ]
  },
  {
   "cell_type": "code",
   "execution_count": 2,
   "id": "8240a78e",
   "metadata": {},
   "outputs": [],
   "source": [
    "def quat_to_rotm(q):\n",
    "    q0, q1, q2, q3 = q\n",
    "    return np.array([\n",
    "        [q0**2+q1**2 - q2**2 - q3**2, 2*(q1*q2 - q0*q3), 2*(q1*q3 + q0*q2)],\n",
    "        [2*(q2*q1 + q0*q3), q0**2 - q1**2 + q2**2 - q3**2, 2*(q2*q3 - q0*q1)],\n",
    "        [2*(q3*q1 - q0*q2), 2*(q3*q2 + q0*q1), q0**2 - q1**2 - q2**2 + q3**2]\n",
    "    ])\n",
    "\n",
    "angle_rad = 17 / 57.92\n",
    "qo = [np.cos(angle_rad), np.sin(angle_rad), 0, 0]\n",
    "rotm = quat_to_rotm(qo)\n",
    "PPmR_body = (rotm @ PPm_body.T).T\n",
    "PPm_use = PPmR_body\n"
   ]
  },
  {
   "cell_type": "markdown",
   "id": "37d9c69f",
   "metadata": {},
   "source": [
    "## 3. Non-Homogeneous Polynomial Fitting (Order 6)"
   ]
  },
  {
   "cell_type": "code",
   "execution_count": 3,
   "id": "f9c8202b",
   "metadata": {},
   "outputs": [],
   "source": [
    "import sympy as sp\n",
    "from scipy.optimize import fsolve\n",
    "\n",
    "x, y, z = sp.symbols('x y z')\n",
    "a, b, c = sp.symbols('a b c')\n",
    "order = 6\n",
    "\n",
    "def generate_terms(order, homogeneous=False):\n",
    "    terms = []\n",
    "    for i in range(order+1):\n",
    "        for j in range(order+1 - i):\n",
    "            for k in range(order+1 - i - j):\n",
    "                if homogeneous and (i + j + k != order):\n",
    "                    continue\n",
    "                if not homogeneous and (i + j + k > order):\n",
    "                    continue\n",
    "                terms.append(x**i * y**j * z**k)\n",
    "    return terms\n",
    "\n",
    "def regression(P, terms):\n",
    "    M = np.array([[float(t.subs({x: px, y: py, z: pz})) for t in terms] for px, py, pz in P])\n",
    "    b, *_ = np.linalg.lstsq(M, np.ones(len(P)), rcond=None)\n",
    "    error = M @ b - 1\n",
    "    return b, error\n",
    "\n",
    "TermsA = generate_terms(order, homogeneous=False)\n",
    "center_shift = np.mean(PPm_use, axis=0)\n",
    "PPm_shift = PPm_use - center_shift\n",
    "shiftResidue = shiftReal - center_shift\n",
    "\n",
    "betaA = sp.symbols(f'betaA0:{len(TermsA)}')\n",
    "f1 = sum(b * t for b, t in zip(betaA, TermsA))\n",
    "beta_vals, _ = regression(PPm_use, TermsA)\n",
    "f1_total = f1.subs(dict(zip(betaA, beta_vals)))\n",
    "f1_shift = f1_total.subs({x: x+a, y: y+b, z: z+c})\n",
    "f1_expanded = sp.expand(f1_shift)\n",
    "\n",
    "poly = sp.Poly(f1_expanded, x, y, z)\n",
    "coeffsA, monomialA = poly.coeffs(), poly.monoms()\n",
    "coeffs_unused = [c for c, m in zip(coeffsA, monomialA) if sum(m) != order and sum(m) != 0]\n",
    "f_coeffsA_norm = sum(sp.sympify(c)**2 for c in coeffs_unused)\n",
    "\n",
    "f_grad = [sp.diff(f_coeffsA_norm, v) for v in (a, b, c)]\n",
    "f_func = sp.lambdify((a, b, c), f_grad, 'numpy')\n",
    "\n",
    "def func_to_solve(vars):\n",
    "    return np.array(f_func(*vars)).astype(np.float64)\n",
    "\n",
    "sol = fsolve(func_to_solve, [0, 0, 0])\n",
    "PPm_shiftA = PPm_use - sol\n"
   ]
  },
  {
   "cell_type": "markdown",
   "id": "e58e2eb4",
   "metadata": {},
   "source": [
    "## 4. Iterative Optimization (Homogeneous Polynomial Fitting)"
   ]
  },
  {
   "cell_type": "code",
   "execution_count": 4,
   "id": "9ee5f775",
   "metadata": {},
   "outputs": [
    {
     "ename": "KeyboardInterrupt",
     "evalue": "",
     "output_type": "error",
     "traceback": [
      "\u001b[0;31m---------------------------------------------------------------------------\u001b[0m",
      "\u001b[0;31mKeyboardInterrupt\u001b[0m                         Traceback (most recent call last)",
      "Cell \u001b[0;32mIn[4], line 19\u001b[0m\n\u001b[1;32m     17\u001b[0m \u001b[38;5;28;01mfor\u001b[39;00m i \u001b[38;5;129;01min\u001b[39;00m \u001b[38;5;28mrange\u001b[39m(\u001b[38;5;241m60\u001b[39m):\n\u001b[1;32m     18\u001b[0m     d1 \u001b[38;5;241m=\u001b[39m np\u001b[38;5;241m.\u001b[39marray([[\u001b[38;5;28mfloat\u001b[39m(sp\u001b[38;5;241m.\u001b[39mdiff(f2, x)\u001b[38;5;241m.\u001b[39msubs({x: px, y: py, z: pz, \u001b[38;5;241m*\u001b[39m\u001b[38;5;241m*\u001b[39m\u001b[38;5;28mdict\u001b[39m(\u001b[38;5;28mzip\u001b[39m(betaB, beta_vals))})) \u001b[38;5;28;01mfor\u001b[39;00m px, py, pz \u001b[38;5;129;01min\u001b[39;00m PPm_shift]])[\u001b[38;5;241m0\u001b[39m]\n\u001b[0;32m---> 19\u001b[0m     d2 \u001b[38;5;241m=\u001b[39m np\u001b[38;5;241m.\u001b[39marray([[\u001b[38;5;28mfloat\u001b[39m(sp\u001b[38;5;241m.\u001b[39mdiff(f2, y)\u001b[38;5;241m.\u001b[39msubs({x: px, y: py, z: pz, \u001b[38;5;241m*\u001b[39m\u001b[38;5;241m*\u001b[39m\u001b[38;5;28mdict\u001b[39m(\u001b[38;5;28mzip\u001b[39m(betaB, beta_vals))})) \u001b[38;5;28;01mfor\u001b[39;00m px, py, pz \u001b[38;5;129;01min\u001b[39;00m PPm_shift]])[\u001b[38;5;241m0\u001b[39m]\n\u001b[1;32m     20\u001b[0m     d3 \u001b[38;5;241m=\u001b[39m np\u001b[38;5;241m.\u001b[39marray([[\u001b[38;5;28mfloat\u001b[39m(sp\u001b[38;5;241m.\u001b[39mdiff(f2, z)\u001b[38;5;241m.\u001b[39msubs({x: px, y: py, z: pz, \u001b[38;5;241m*\u001b[39m\u001b[38;5;241m*\u001b[39m\u001b[38;5;28mdict\u001b[39m(\u001b[38;5;28mzip\u001b[39m(betaB, beta_vals))})) \u001b[38;5;28;01mfor\u001b[39;00m px, py, pz \u001b[38;5;129;01min\u001b[39;00m PPm_shift]])[\u001b[38;5;241m0\u001b[39m]\n\u001b[1;32m     21\u001b[0m     dxyz \u001b[38;5;241m=\u001b[39m np\u001b[38;5;241m.\u001b[39mvstack((d1, d2, d3))\u001b[38;5;241m.\u001b[39mT\n",
      "Cell \u001b[0;32mIn[4], line 19\u001b[0m, in \u001b[0;36m<listcomp>\u001b[0;34m(.0)\u001b[0m\n\u001b[1;32m     17\u001b[0m \u001b[38;5;28;01mfor\u001b[39;00m i \u001b[38;5;129;01min\u001b[39;00m \u001b[38;5;28mrange\u001b[39m(\u001b[38;5;241m60\u001b[39m):\n\u001b[1;32m     18\u001b[0m     d1 \u001b[38;5;241m=\u001b[39m np\u001b[38;5;241m.\u001b[39marray([[\u001b[38;5;28mfloat\u001b[39m(sp\u001b[38;5;241m.\u001b[39mdiff(f2, x)\u001b[38;5;241m.\u001b[39msubs({x: px, y: py, z: pz, \u001b[38;5;241m*\u001b[39m\u001b[38;5;241m*\u001b[39m\u001b[38;5;28mdict\u001b[39m(\u001b[38;5;28mzip\u001b[39m(betaB, beta_vals))})) \u001b[38;5;28;01mfor\u001b[39;00m px, py, pz \u001b[38;5;129;01min\u001b[39;00m PPm_shift]])[\u001b[38;5;241m0\u001b[39m]\n\u001b[0;32m---> 19\u001b[0m     d2 \u001b[38;5;241m=\u001b[39m np\u001b[38;5;241m.\u001b[39marray([[\u001b[38;5;28mfloat\u001b[39m(\u001b[43msp\u001b[49m\u001b[38;5;241;43m.\u001b[39;49m\u001b[43mdiff\u001b[49m\u001b[43m(\u001b[49m\u001b[43mf2\u001b[49m\u001b[43m,\u001b[49m\u001b[43m \u001b[49m\u001b[43my\u001b[49m\u001b[43m)\u001b[49m\u001b[38;5;241;43m.\u001b[39;49m\u001b[43msubs\u001b[49m\u001b[43m(\u001b[49m\u001b[43m{\u001b[49m\u001b[43mx\u001b[49m\u001b[43m:\u001b[49m\u001b[43m \u001b[49m\u001b[43mpx\u001b[49m\u001b[43m,\u001b[49m\u001b[43m \u001b[49m\u001b[43my\u001b[49m\u001b[43m:\u001b[49m\u001b[43m \u001b[49m\u001b[43mpy\u001b[49m\u001b[43m,\u001b[49m\u001b[43m \u001b[49m\u001b[43mz\u001b[49m\u001b[43m:\u001b[49m\u001b[43m \u001b[49m\u001b[43mpz\u001b[49m\u001b[43m,\u001b[49m\u001b[43m \u001b[49m\u001b[38;5;241;43m*\u001b[39;49m\u001b[38;5;241;43m*\u001b[39;49m\u001b[38;5;28;43mdict\u001b[39;49m\u001b[43m(\u001b[49m\u001b[38;5;28;43mzip\u001b[39;49m\u001b[43m(\u001b[49m\u001b[43mbetaB\u001b[49m\u001b[43m,\u001b[49m\u001b[43m \u001b[49m\u001b[43mbeta_vals\u001b[49m\u001b[43m)\u001b[49m\u001b[43m)\u001b[49m\u001b[43m}\u001b[49m\u001b[43m)\u001b[49m) \u001b[38;5;28;01mfor\u001b[39;00m px, py, pz \u001b[38;5;129;01min\u001b[39;00m PPm_shift]])[\u001b[38;5;241m0\u001b[39m]\n\u001b[1;32m     20\u001b[0m     d3 \u001b[38;5;241m=\u001b[39m np\u001b[38;5;241m.\u001b[39marray([[\u001b[38;5;28mfloat\u001b[39m(sp\u001b[38;5;241m.\u001b[39mdiff(f2, z)\u001b[38;5;241m.\u001b[39msubs({x: px, y: py, z: pz, \u001b[38;5;241m*\u001b[39m\u001b[38;5;241m*\u001b[39m\u001b[38;5;28mdict\u001b[39m(\u001b[38;5;28mzip\u001b[39m(betaB, beta_vals))})) \u001b[38;5;28;01mfor\u001b[39;00m px, py, pz \u001b[38;5;129;01min\u001b[39;00m PPm_shift]])[\u001b[38;5;241m0\u001b[39m]\n\u001b[1;32m     21\u001b[0m     dxyz \u001b[38;5;241m=\u001b[39m np\u001b[38;5;241m.\u001b[39mvstack((d1, d2, d3))\u001b[38;5;241m.\u001b[39mT\n",
      "File \u001b[0;32m~/.local/lib/python3.8/site-packages/sympy/core/basic.py:1123\u001b[0m, in \u001b[0;36mBasic.subs\u001b[0;34m(self, *args, **kwargs)\u001b[0m\n\u001b[1;32m   1121\u001b[0m rv \u001b[38;5;241m=\u001b[39m \u001b[38;5;28mself\u001b[39m\n\u001b[1;32m   1122\u001b[0m \u001b[38;5;28;01mfor\u001b[39;00m old, new \u001b[38;5;129;01min\u001b[39;00m sequence:\n\u001b[0;32m-> 1123\u001b[0m     rv \u001b[38;5;241m=\u001b[39m \u001b[43mrv\u001b[49m\u001b[38;5;241;43m.\u001b[39;49m\u001b[43m_subs\u001b[49m\u001b[43m(\u001b[49m\u001b[43mold\u001b[49m\u001b[43m,\u001b[49m\u001b[43m \u001b[49m\u001b[43mnew\u001b[49m\u001b[43m,\u001b[49m\u001b[43m \u001b[49m\u001b[38;5;241;43m*\u001b[39;49m\u001b[38;5;241;43m*\u001b[39;49m\u001b[43mkwargs\u001b[49m\u001b[43m)\u001b[49m\n\u001b[1;32m   1124\u001b[0m     \u001b[38;5;28;01mif\u001b[39;00m \u001b[38;5;129;01mnot\u001b[39;00m \u001b[38;5;28misinstance\u001b[39m(rv, Basic):\n\u001b[1;32m   1125\u001b[0m         \u001b[38;5;28;01mbreak\u001b[39;00m\n",
      "File \u001b[0;32m~/.local/lib/python3.8/site-packages/sympy/core/cache.py:72\u001b[0m, in \u001b[0;36m__cacheit.<locals>.func_wrapper.<locals>.wrapper\u001b[0;34m(*args, **kwargs)\u001b[0m\n\u001b[1;32m     69\u001b[0m \u001b[38;5;129m@wraps\u001b[39m(func)\n\u001b[1;32m     70\u001b[0m \u001b[38;5;28;01mdef\u001b[39;00m\u001b[38;5;250m \u001b[39m\u001b[38;5;21mwrapper\u001b[39m(\u001b[38;5;241m*\u001b[39margs, \u001b[38;5;241m*\u001b[39m\u001b[38;5;241m*\u001b[39mkwargs):\n\u001b[1;32m     71\u001b[0m     \u001b[38;5;28;01mtry\u001b[39;00m:\n\u001b[0;32m---> 72\u001b[0m         retval \u001b[38;5;241m=\u001b[39m \u001b[43mcfunc\u001b[49m\u001b[43m(\u001b[49m\u001b[38;5;241;43m*\u001b[39;49m\u001b[43margs\u001b[49m\u001b[43m,\u001b[49m\u001b[43m \u001b[49m\u001b[38;5;241;43m*\u001b[39;49m\u001b[38;5;241;43m*\u001b[39;49m\u001b[43mkwargs\u001b[49m\u001b[43m)\u001b[49m\n\u001b[1;32m     73\u001b[0m     \u001b[38;5;28;01mexcept\u001b[39;00m \u001b[38;5;167;01mTypeError\u001b[39;00m \u001b[38;5;28;01mas\u001b[39;00m e:\n\u001b[1;32m     74\u001b[0m         \u001b[38;5;28;01mif\u001b[39;00m \u001b[38;5;129;01mnot\u001b[39;00m e\u001b[38;5;241m.\u001b[39margs \u001b[38;5;129;01mor\u001b[39;00m \u001b[38;5;129;01mnot\u001b[39;00m e\u001b[38;5;241m.\u001b[39margs[\u001b[38;5;241m0\u001b[39m]\u001b[38;5;241m.\u001b[39mstartswith(\u001b[38;5;124m'\u001b[39m\u001b[38;5;124munhashable type:\u001b[39m\u001b[38;5;124m'\u001b[39m):\n",
      "File \u001b[0;32m~/.local/lib/python3.8/site-packages/sympy/core/basic.py:1237\u001b[0m, in \u001b[0;36mBasic._subs\u001b[0;34m(self, old, new, **hints)\u001b[0m\n\u001b[1;32m   1235\u001b[0m rv \u001b[38;5;241m=\u001b[39m \u001b[38;5;28mself\u001b[39m\u001b[38;5;241m.\u001b[39m_eval_subs(old, new)\n\u001b[1;32m   1236\u001b[0m \u001b[38;5;28;01mif\u001b[39;00m rv \u001b[38;5;129;01mis\u001b[39;00m \u001b[38;5;28;01mNone\u001b[39;00m:\n\u001b[0;32m-> 1237\u001b[0m     rv \u001b[38;5;241m=\u001b[39m \u001b[43mfallback\u001b[49m\u001b[43m(\u001b[49m\u001b[38;5;28;43mself\u001b[39;49m\u001b[43m,\u001b[49m\u001b[43m \u001b[49m\u001b[43mold\u001b[49m\u001b[43m,\u001b[49m\u001b[43m \u001b[49m\u001b[43mnew\u001b[49m\u001b[43m)\u001b[49m\n\u001b[1;32m   1238\u001b[0m \u001b[38;5;28;01mreturn\u001b[39;00m rv\n",
      "File \u001b[0;32m~/.local/lib/python3.8/site-packages/sympy/core/basic.py:1210\u001b[0m, in \u001b[0;36mBasic._subs.<locals>.fallback\u001b[0;34m(self, old, new)\u001b[0m\n\u001b[1;32m   1208\u001b[0m     \u001b[38;5;28;01mcontinue\u001b[39;00m\n\u001b[1;32m   1209\u001b[0m arg \u001b[38;5;241m=\u001b[39m arg\u001b[38;5;241m.\u001b[39m_subs(old, new, \u001b[38;5;241m*\u001b[39m\u001b[38;5;241m*\u001b[39mhints)\n\u001b[0;32m-> 1210\u001b[0m \u001b[38;5;28;01mif\u001b[39;00m \u001b[38;5;129;01mnot\u001b[39;00m \u001b[43m_aresame\u001b[49m\u001b[43m(\u001b[49m\u001b[43marg\u001b[49m\u001b[43m,\u001b[49m\u001b[43m \u001b[49m\u001b[43margs\u001b[49m\u001b[43m[\u001b[49m\u001b[43mi\u001b[49m\u001b[43m]\u001b[49m\u001b[43m)\u001b[49m:\n\u001b[1;32m   1211\u001b[0m     hit \u001b[38;5;241m=\u001b[39m \u001b[38;5;28;01mTrue\u001b[39;00m\n\u001b[1;32m   1212\u001b[0m     args[i] \u001b[38;5;241m=\u001b[39m arg\n",
      "File \u001b[0;32m~/.local/lib/python3.8/site-packages/sympy/core/basic.py:2197\u001b[0m, in \u001b[0;36mBasic.is_same\u001b[0;34m(a, b, approx)\u001b[0m\n\u001b[1;32m   2195\u001b[0m     \u001b[38;5;28;01mreturn\u001b[39;00m \u001b[38;5;28;01mFalse\u001b[39;00m\n\u001b[1;32m   2196\u001b[0m a, b \u001b[38;5;241m=\u001b[39m t\n\u001b[0;32m-> 2197\u001b[0m \u001b[38;5;28;01mif\u001b[39;00m \u001b[38;5;28;43misinstance\u001b[39;49m\u001b[43m(\u001b[49m\u001b[43ma\u001b[49m\u001b[43m,\u001b[49m\u001b[43m \u001b[49m\u001b[43mNumber\u001b[49m\u001b[43m)\u001b[49m:\n\u001b[1;32m   2198\u001b[0m     \u001b[38;5;28;01mif\u001b[39;00m \u001b[38;5;129;01mnot\u001b[39;00m \u001b[38;5;28misinstance\u001b[39m(b, Number):\n\u001b[1;32m   2199\u001b[0m         \u001b[38;5;28;01mreturn\u001b[39;00m \u001b[38;5;28;01mFalse\u001b[39;00m\n",
      "\u001b[0;31mKeyboardInterrupt\u001b[0m: "
     ]
    }
   ],
   "source": [
    "def regressionShift(P, error, dxyz):\n",
    "    A = dxyz\n",
    "    b = -error\n",
    "    delta, *_ = np.linalg.lstsq(A, b, rcond=None)\n",
    "    return delta.reshape(-1, 1), b.reshape(-1, 1)\n",
    "\n",
    "TermsB = generate_terms(order, homogeneous=True)\n",
    "betaB = sp.symbols(f'betaB0:{len(TermsB)}')\n",
    "f2 = sum(b * t for b, t in zip(betaB, TermsB))\n",
    "\n",
    "beta_vals, error_shift = regression(PPm_shift, TermsB)\n",
    "shift_1 = np.zeros((3,1))\n",
    "shiftResidue = np.zeros((3,1))\n",
    "shiftSum = center_shift.reshape(3,1)\n",
    "PPm_shift = PPm_use - center_shift\n",
    "\n",
    "for i in range(60):\n",
    "    d1 = np.array([[float(sp.diff(f2, x).subs({x: px, y: py, z: pz, **dict(zip(betaB, beta_vals))})) for px, py, pz in PPm_shift]])[0]\n",
    "    d2 = np.array([[float(sp.diff(f2, y).subs({x: px, y: py, z: pz, **dict(zip(betaB, beta_vals))})) for px, py, pz in PPm_shift]])[0]\n",
    "    d3 = np.array([[float(sp.diff(f2, z).subs({x: px, y: py, z: pz, **dict(zip(betaB, beta_vals))})) for px, py, pz in PPm_shift]])[0]\n",
    "    dxyz = np.vstack((d1, d2, d3)).T\n",
    "\n",
    "    shift, _ = regressionShift(PPm_shift, error_shift, dxyz)\n",
    "    shift_1 = 0.85 * shift + 0.66 * shift_1\n",
    "    shiftResidue += shift_1\n",
    "    shiftSum -= shift_1\n",
    "    PPm_shift += shift_1.T\n",
    "    beta_vals, error_shift = regression(PPm_shift, TermsB)\n"
   ]
  },
  {
   "cell_type": "markdown",
   "id": "5dfafed8",
   "metadata": {},
   "source": [
    "## 5. Quaternion-Based Rotation Optimization"
   ]
  },
  {
   "cell_type": "code",
   "execution_count": null,
   "id": "4848e536",
   "metadata": {},
   "outputs": [],
   "source": [
    "from scipy.optimize import minimize\n",
    "q0, q1, q2, q3 = sp.symbols('q0 q1 q2 q3', real=True)\n",
    "q = [q0, q1, q2, q3]\n",
    "Rq_sym = quat_to_rotm(q)\n",
    "xr = Rq_sym[0,0]*x + Rq_sym[0,1]*y + Rq_sym[0,2]*z\n",
    "yr = Rq_sym[1,0]*x + Rq_sym[1,1]*y + Rq_sym[1,2]*z\n",
    "zr = Rq_sym[2,0]*x + Rq_sym[2,1]*y + Rq_sym[2,2]*z\n",
    "\n",
    "f4_rotated = f2.subs(dict(zip(betaB, beta_vals)))\n",
    "f4_rotated = f4_rotated.subs({x: xr, y: yr, z: zr})\n",
    "\n",
    "poly_rot = sp.Poly(f4_rotated, x, y, z)\n",
    "coeffsB, monomialB = poly_rot.coeffs(), poly_rot.monoms()\n",
    "monList = [(0,6,0), (2,4,0), (4,2,0), (6,0,0), (0,0,6)]\n",
    "coeffsB_unused = [c for c, m in zip(coeffsB, monomialB) if tuple(m) not in monList]\n",
    "f_coeffsB_norm = sum(sp.sympify(c)**2 for c in coeffsB_unused)\n",
    "\n",
    "f_obj = sp.lambdify((q0, q1, q2, q3), f_coeffsB_norm, 'numpy')\n",
    "objective = lambda q: f_obj(*q)\n",
    "constraint = {'type': 'eq', 'fun': lambda q: np.sum(np.square(q)) - 1}\n",
    "\n",
    "res = minimize(objective, [1, 0, 0, 0], constraints=constraint)\n",
    "qOpt = res.x / np.linalg.norm(res.x)\n",
    "\n",
    "Rq4 = quat_to_rotm([qOpt[0], -qOpt[1], -qOpt[2], -qOpt[3]])\n",
    "PPm_shiftB = (Rq4 @ PPm_shift.T).T\n"
   ]
  },
  {
   "cell_type": "markdown",
   "id": "d4b147eb",
   "metadata": {},
   "source": [
    "## 6. Final Visualization"
   ]
  },
  {
   "cell_type": "code",
   "execution_count": null,
   "id": "abf21827",
   "metadata": {},
   "outputs": [],
   "source": [
    "import matplotlib.pyplot as plt\n",
    "from mpl_toolkits.mplot3d import Axes3D\n",
    "\n",
    "f4_substituted = f4_rotated.subs({q0: qOpt[0], q1: qOpt[1], q2: qOpt[2], q3: qOpt[3]})\n",
    "f4_numeric = sp.lambdify((x, y, z), f4_substituted - 1, 'numpy')\n",
    "\n",
    "fig = plt.figure()\n",
    "ax = fig.add_subplot(111, projection='3d')\n",
    "ax.scatter(PPm_shiftB[:,0], PPm_shiftB[:,1], PPm_shiftB[:,2], s=1, c=PPm_shiftB[:,2], cmap='jet')\n",
    "ax.set_xlabel('X')\n",
    "ax.set_ylabel('Y')\n",
    "ax.set_zlabel('Z')\n",
    "ax.view_init(elev=30, azim=45)\n",
    "ax.set_title(\"Final Aligned Point Cloud and Surface\")\n",
    "plt.axis('equal')\n",
    "plt.show()\n"
   ]
  }
 ],
 "metadata": {
  "kernelspec": {
   "display_name": "usr",
   "language": "python",
   "name": "python3"
  },
  "language_info": {
   "codemirror_mode": {
    "name": "ipython",
    "version": 3
   },
   "file_extension": ".py",
   "mimetype": "text/x-python",
   "name": "python",
   "nbconvert_exporter": "python",
   "pygments_lexer": "ipython3",
   "version": "3.8.10"
  }
 },
 "nbformat": 4,
 "nbformat_minor": 5
}
